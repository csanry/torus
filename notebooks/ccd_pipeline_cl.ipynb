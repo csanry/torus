{
 "cells": [
  {
   "cell_type": "markdown",
   "id": "212c52f3",
   "metadata": {},
   "source": [
    "**CHECKS, IMPORTS AND ENVIRONMENT SETTINGS**"
   ]
  },
  {
   "cell_type": "code",
   "execution_count": null,
   "id": "e2244501-5767-4c4f-b07f-0608a7a9f323",
   "metadata": {},
   "outputs": [],
   "source": [
    "import os\n",
    "# Google Cloud Notebook\n",
    "if os.path.exists(\"/opt/deeplearning/metadata/env_version\"):\n",
    "    USER_FLAG = \"--user\"\n",
    "else:\n",
    "    USER_FLAG = \"\"\n",
    "\n",
    "! pip3 install --upgrade google-cloud-aiplatform $USER_FLAG"
   ]
  },
  {
   "cell_type": "code",
   "execution_count": null,
   "id": "128639ee-7785-462e-a1b0-a508b2744235",
   "metadata": {},
   "outputs": [],
   "source": [
    "! pip3 install -U google-cloud-storage $USER_FLAG"
   ]
  },
  {
   "cell_type": "code",
   "execution_count": null,
   "id": "f06da9cc-81fc-46e0-8ada-c3b87d8bf07f",
   "metadata": {},
   "outputs": [],
   "source": [
    "! pip3 install $USER kfp --upgrade"
   ]
  },
  {
   "cell_type": "code",
   "execution_count": 5,
   "id": "2c47be69-9b3a-4b01-a69b-8776f9e3af88",
   "metadata": {},
   "outputs": [],
   "source": [
    "if os.getenv(\"IS_TESTING\"):\n",
    "    ! pip3 install --upgrade matplotlib $USER_FLAG"
   ]
  },
  {
   "cell_type": "code",
   "execution_count": 6,
   "id": "0add4f17-a368-44f5-9ca3-e6a8dca62135",
   "metadata": {},
   "outputs": [],
   "source": [
    "import os\n",
    "if not os.getenv(\"IS_TESTING\"):\n",
    "    # Automatically restart kernel after installs\n",
    "    import IPython\n",
    "\n",
    "    app = IPython.Application.instance()\n",
    "    app.kernel.do_shutdown(True)"
   ]
  },
  {
   "cell_type": "code",
   "execution_count": 1,
   "id": "3ed6c9c4-64fd-41f9-ae67-a31405b0c3fc",
   "metadata": {},
   "outputs": [
    {
     "name": "stdout",
     "output_type": "stream",
     "text": [
      "KFP SDK version: 1.8.12\n"
     ]
    }
   ],
   "source": [
    "! python3 -c \"import kfp; print('KFP SDK version: {}'.format(kfp.__version__))\""
   ]
  },
  {
   "cell_type": "code",
   "execution_count": 2,
   "id": "41d198f3-65c4-4465-babd-a7758b076b0a",
   "metadata": {},
   "outputs": [],
   "source": [
    "PROJECT_ID = \"ccd-test-354201\" \n",
    "REGION = \"asia-southeast1\" \n",
    "BUCKET_NAME = \"gs://ccd-bucket\" "
   ]
  },
  {
   "cell_type": "code",
   "execution_count": 8,
   "id": "833e2d1b-1c34-46a6-9c3a-9afb0b32f968",
   "metadata": {},
   "outputs": [
    {
     "name": "stdout",
     "output_type": "stream",
     "text": [
      "   3386491  2022-06-23T01:51:57Z  gs://ccd-bucket/ccd_dataset.csv#1655949117320722  metageneration=1\n",
      "TOTAL: 1 objects, 3386491 bytes (3.23 MiB)\n"
     ]
    }
   ],
   "source": [
    "! gsutil ls -al $BUCKET_NAME"
   ]
  },
  {
   "cell_type": "code",
   "execution_count": 4,
   "id": "fae62063-972c-4632-95af-4b8d36e539f7",
   "metadata": {},
   "outputs": [],
   "source": [
    "PIPELINE_ROOT = \"{}/pipeline_root/ccd\".format(BUCKET_NAME)"
   ]
  },
  {
   "cell_type": "code",
   "execution_count": 17,
   "id": "0d7ff9f8-515d-4b84-afd3-ec8d525de05a",
   "metadata": {},
   "outputs": [],
   "source": [
    "import google.cloud.aiplatform as aip\n",
    "from kfp.v2 import dsl, compiler\n",
    "from kfp.v2.dsl import Artifact, Dataset, Input, Model, ClassificationMetrics, Metrics, Output, component"
   ]
  },
  {
   "cell_type": "code",
   "execution_count": 10,
   "id": "4c305eaf-c067-4bf5-aecd-66bf294d119a",
   "metadata": {},
   "outputs": [],
   "source": [
    "aip.init(project=PROJECT_ID, staging_bucket=BUCKET_NAME)"
   ]
  },
  {
   "cell_type": "markdown",
   "id": "88d4b9b1",
   "metadata": {},
   "source": [
    "**CREATE COMPONENTS**"
   ]
  },
  {
   "cell_type": "code",
   "execution_count": 73,
   "id": "b9e6fe74-c82a-40b7-b456-745bee7ee37f",
   "metadata": {},
   "outputs": [],
   "source": [
    "@component(\n",
    "    base_image=\"python:3.9\",\n",
    "    packages_to_install=[\"pandas\", \"sklearn\", \"fsspec\", \"gcsfs\"],\n",
    "    output_component_file=\"ccd_preprocess.yaml\",)\n",
    "def preprocess(url: str, dataset_train: Output[Dataset], dataset_test: Output[Dataset]):\n",
    "    import gcsfs\n",
    "    import pandas as pd\n",
    "    from functools import reduce\n",
    "    from sklearn.model_selection import train_test_split as tts\n",
    "                         \n",
    "    #Read CSV and fix columns\n",
    "    fs = gcsfs.GCSFileSystem()\n",
    "    with fs.open(url, 'rb') as f:\n",
    "        df = pd.read_csv(f) \n",
    "    \n",
    "    columns = df.columns.to_list()\n",
    "    columns = list(map(lambda name: name.lower().strip(), columns))\n",
    "    df.columns = columns\n",
    "    \n",
    "    #Drop NAs and do other fixes\n",
    "    df.dropna()\n",
    "    df['target'] = df['default'].apply(lambda x: 1 if x == 'Y' else 0)\n",
    "    df.loc[df['education'] == '0', 'education'] = 'Unknown'\n",
    "    df.loc[df['marriage'] == '0', 'marriage'] = 'Other'\n",
    "    sex = pd.get_dummies(df.sex, prefix = 'gender')\n",
    "    education = pd.get_dummies(df.education, prefix = 'ed')\n",
    "    marriage = pd.get_dummies(df.marriage, prefix = 'mstatus')\n",
    "    frames = [df, sex, education, marriage]\n",
    "    final = reduce(lambda l, r: pd.concat([l, r], axis = 1), frames)\n",
    "    final.drop(['default', 'sex', 'education', 'marriage'], axis = 1, inplace = True)\n",
    "    \n",
    "    train, test = tts(final, test_size = 0.2)\n",
    "    \n",
    "    train.to_csv(dataset_train.path)\n",
    "    test.to_csv(dataset_test.path)"
   ]
  },
  {
   "cell_type": "code",
   "execution_count": 77,
   "id": "7412a066-813f-4532-ab33-5ea52b343b32",
   "metadata": {},
   "outputs": [],
   "source": [
    "@component(\n",
    "    packages_to_install=[\"pandas\", \"sklearn\", \"xgboost\", \"fsspec\"],\n",
    "    base_image=\"python:3.9\",\n",
    "    output_component_file=\"ccd_train.yaml\",)\n",
    "def train(dataset: Input[Dataset], model_artifact: Output[Model]):\n",
    "    \n",
    "    import pandas as pd\n",
    "    from xgboost import XGBClassifier\n",
    "\n",
    "    data = pd.read_csv(dataset.path)\n",
    "    X = data.drop(['id', 'target'], axis = 1)\n",
    "    Y = data['target']\n",
    "    \n",
    "    model = XGBClassifier(max_depth=2, learning_rate = 0.1, n_estimators=350, n_jobs = -1)\n",
    "    model.fit(X, Y)\n",
    "    \n",
    "    score = model.score(X, Y)\n",
    "    \n",
    "    model_artifact.metadata[\"train_score\"] = float(score)\n",
    "    model_artifact.metadata[\"framework\"] = \"XGBoost\"\n",
    "    \n",
    "    model.save_model(model_artifact.path)"
   ]
  },
  {
   "cell_type": "code",
   "execution_count": 80,
   "id": "35b1a152-8817-41b2-bc2f-689ee49c7d6c",
   "metadata": {},
   "outputs": [],
   "source": [
    "@component(\n",
    "    packages_to_install=[\"pandas\", \"sklearn\", \"xgboost\", \"fsspec\"],\n",
    "    base_image=\"python:3.9\",\n",
    "    output_component_file=\"ccd_eval.yaml\",)\n",
    "def eval_model(test_set: Input[Dataset], xgb_model: Input[Model],\n",
    "               metrics: Output[ClassificationMetrics], smetrics: Output[Metrics]):\n",
    "    \n",
    "    from xgboost import XGBClassifier\n",
    "    import pandas as pd\n",
    "    from sklearn.metrics import roc_curve, confusion_matrix\n",
    "    \n",
    "    data = pd.read_csv(test_set.path)\n",
    "    model = XGBClassifier()\n",
    "    model.load_model(xgb_model.path)\n",
    "    \n",
    "    X = data.drop(['id', 'target'], axis = 1)\n",
    "    Y = data['target']\n",
    "    \n",
    "    score = model.score(X, Y)\n",
    "    \n",
    "    y_prob = model.predict_proba(X)[:, 1]\n",
    "    fpr, tpr, thresholds = roc_curve(Y, y_prob, pos_label = 1)\n",
    "    metrics.log_roc_curve(fpr.tolist(), tpr.tolist(), thresholds.tolist())\n",
    "    \n",
    "    y_pred = model.predict(X)\n",
    "    \n",
    "    metrics.log_confusion_matrix([0, 1], confusion_matrix(Y, y_pred).tolist())\n",
    "    \n",
    "    xgb_model.metadata[\"test_score\"] = float(score)\n",
    "    smetrics.log_metric(\"score\", float(score))"
   ]
  },
  {
   "cell_type": "markdown",
   "id": "e4be8529",
   "metadata": {},
   "source": [
    "**CREATE PIPELINE**"
   ]
  },
  {
   "cell_type": "code",
   "execution_count": 57,
   "id": "bf597a21-028b-401c-bbfc-c658db8b294a",
   "metadata": {},
   "outputs": [],
   "source": [
    "url = \"gs://ccd-bucket/ccd_dataset.csv\""
   ]
  },
  {
   "cell_type": "code",
   "execution_count": 81,
   "id": "b728da11-533b-43ec-ae87-b12de77ccb42",
   "metadata": {},
   "outputs": [],
   "source": [
    "@dsl.pipeline(\n",
    "    pipeline_root = PIPELINE_ROOT,\n",
    "    name = 'ccd-pipeline-test',)\n",
    "def pipeline():\n",
    "    dataset_op = preprocess(url)\n",
    "    train_op = train(dataset_op.outputs[\"dataset_train\"])\n",
    "    eval_op = eval_model(test_set = dataset_op.outputs[\"dataset_test\"], xgb_model = train_op.outputs[\"model_artifact\"])\n",
    "    \n",
    "compiler.Compiler().compile(pipeline_func = pipeline, package_path='xgb_pipe.json')"
   ]
  },
  {
   "cell_type": "code",
   "execution_count": null,
   "id": "87955c61-8196-46c1-b180-f3a89deac1ba",
   "metadata": {},
   "outputs": [],
   "source": [
    "from kfp.v2.google.client import AIPlatformClient\n",
    "\n",
    "job = aip.PipelineJob(\n",
    "    display_name='ccd-test-v1',\n",
    "    template_path=\"xgb_pipe.json\",\n",
    "    job_id=\"test-12\",\n",
    "    pipeline_root=PIPELINE_ROOT,\n",
    ")\n",
    "\n",
    "job.run()"
   ]
  },
  {
   "cell_type": "code",
   "execution_count": null,
   "id": "2dca8854-f096-4448-b1a8-3568f0ab84b1",
   "metadata": {},
   "outputs": [],
   "source": []
  }
 ],
 "metadata": {
  "environment": {
   "kernel": "python3",
   "name": "common-cpu.m93",
   "type": "gcloud",
   "uri": "gcr.io/deeplearning-platform-release/base-cpu:m93"
  },
  "kernelspec": {
   "display_name": "Python 3",
   "language": "python",
   "name": "python3"
  },
  "language_info": {
   "codemirror_mode": {
    "name": "ipython",
    "version": 3
   },
   "file_extension": ".py",
   "mimetype": "text/x-python",
   "name": "python",
   "nbconvert_exporter": "python",
   "pygments_lexer": "ipython3",
   "version": "3.7.12"
  }
 },
 "nbformat": 4,
 "nbformat_minor": 5
}
